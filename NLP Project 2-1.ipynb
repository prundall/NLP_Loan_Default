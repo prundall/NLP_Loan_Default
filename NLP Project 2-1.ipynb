{
 "cells": [
  {
   "cell_type": "code",
   "execution_count": null,
   "metadata": {},
   "outputs": [],
   "source": []
  },
  {
   "cell_type": "code",
   "execution_count": 1,
   "metadata": {},
   "outputs": [
    {
     "name": "stderr",
     "output_type": "stream",
     "text": [
      "[nltk_data] Downloading package punkt to\n",
      "[nltk_data]     /Users/philiprundall/nltk_data...\n",
      "[nltk_data]   Package punkt is already up-to-date!\n",
      "[nltk_data] Downloading package stopwords to\n",
      "[nltk_data]     /Users/philiprundall/nltk_data...\n",
      "[nltk_data]   Package stopwords is already up-to-date!\n",
      "[nltk_data] Downloading package averaged_perceptron_tagger to\n",
      "[nltk_data]     /Users/philiprundall/nltk_data...\n",
      "[nltk_data]   Package averaged_perceptron_tagger is already up-to-\n",
      "[nltk_data]       date!\n"
     ]
    }
   ],
   "source": [
    "# Import Packages\n",
    "import pandas as pd\n",
    "import numpy as np\n",
    "import re\n",
    "import seaborn as sns\n",
    "import matplotlib.pyplot as plt\n",
    "from nltk import FreqDist\n",
    "import nltk\n",
    "nltk.download('punkt')\n",
    "nltk.download('stopwords')\n",
    "nltk.download('averaged_perceptron_tagger')\n",
    "from nltk.corpus import stopwords\n",
    "from nltk.stem import PorterStemmer\n",
    "from sklearn.feature_extraction.text import TfidfTransformer\n",
    "from sklearn.feature_extraction.text import CountVectorizer\n",
    "from sklearn.linear_model import LogisticRegression\n",
    "from sklearn.metrics import confusion_matrix\n",
    "from sklearn.neighbors import KNeighborsClassifier\n",
    "from sklearn.discriminant_analysis import LinearDiscriminantAnalysis\n",
    "from sklearn.discriminant_analysis import QuadraticDiscriminantAnalysis\n",
    "from sklearn.cluster import KMeans\n",
    "from scipy import signal\n",
    "\n",
    "\n",
    "stop_words = list(set(stopwords.words('english')))"
   ]
  },
  {
   "cell_type": "code",
   "execution_count": 47,
   "metadata": {},
   "outputs": [],
   "source": [
    "df = pd.read_csv(\"/Users/philiprundall/Python/Econ_412 /Project_2/Part1_test.csv\", names=[\"Class\",\"Title\",\"Summary\"], header=None) # Read table\n",
    "manipulated = df.copy() # make a copy"
   ]
  },
  {
   "cell_type": "markdown",
   "metadata": {},
   "source": [
    "# Visualize Data"
   ]
  },
  {
   "cell_type": "code",
   "execution_count": 48,
   "metadata": {},
   "outputs": [
    {
     "data": {
      "image/png": "[encoded data removed]",
      "text/plain": [
       "<Figure size 720x360 with 1 Axes>"
      ]
     },
     "metadata": {
      "needs_background": "light"
     },
     "output_type": "display_data"
    }
   ],
   "source": [
    "#Visualize classes\n",
    "classes = ['World', 'Sports', 'Business', 'Sci/Tech']\n",
    "\n",
    "fig = plt.figure(figsize=(10,5))\n",
    "ax = sns.barplot(x=df[\"Class\"].unique(),y=df[\"Class\"].value_counts())\n",
    "ax.set(xlabel='Categories', ylabel = 'Frequency')\n",
    "plt.xticks(range(4), classes )\n",
    "plt.show()"
   ]
  },
  {
   "cell_type": "markdown",
   "metadata": {},
   "source": [
    "# Parsing\n",
    "## this part isnt actually used :( bc theres a package that does it not as well but whatever"
   ]
  },
  {
   "cell_type": "code",
   "execution_count": 27,
   "metadata": {},
   "outputs": [],
   "source": [
    "Summary = manipulated.iloc[:,1] # Just using the summary for now use 2 or title use 1"
   ]
  },
  {
   "cell_type": "code",
   "execution_count": 28,
   "metadata": {},
   "outputs": [],
   "source": [
    "S = [re.sub(r'[^\\w]', ' ', i) for i in Summary.to_numpy()] #Remove punctuation\n",
    "\n",
    "S = [i.split(' ') for i in S] #Tokenize\n",
    "\n",
    "S = [[j for j in i if j != ''] for i in S] # remove all empty words\n",
    "\n",
    "S = [[v for v in w if not v in stop_words] for w in S] # Remove stop words\n",
    "\n",
    "S = [[PorterStemmer().stem(i) for i in j] for j in S] #Convert all words into their stems ie running, ran, runs alll become run"
   ]
  },
  {
   "cell_type": "code",
   "execution_count": null,
   "metadata": {
    "scrolled": true
   },
   "outputs": [],
   "source": []
  },
  {
   "cell_type": "code",
   "execution_count": null,
   "metadata": {},
   "outputs": [],
   "source": []
  },
  {
   "cell_type": "markdown",
   "metadata": {},
   "source": [
    "# Extracting relevant Words"
   ]
  },
  {
   "cell_type": "code",
   "execution_count": 49,
   "metadata": {},
   "outputs": [],
   "source": [
    "###Parameter for graph\n",
    "#Number of the most significant words you wish to use\n",
    "SignificantWords = 20"
   ]
  },
  {
   "cell_type": "code",
   "execution_count": 50,
   "metadata": {
    "scrolled": true
   },
   "outputs": [],
   "source": [
    "allwords = []\n",
    "for i in S:\n",
    "    for j in i:\n",
    "        allwords.append(j)"
   ]
  },
  {
   "cell_type": "code",
   "execution_count": 51,
   "metadata": {},
   "outputs": [],
   "source": [
    "commonwords = FreqDist(allwords)"
   ]
  },
  {
   "cell_type": "code",
   "execution_count": 52,
   "metadata": {},
   "outputs": [],
   "source": [
    "\n",
    "comwordslist = commonwords.most_common(SignificantWords)\n"
   ]
  },
  {
   "cell_type": "code",
   "execution_count": 53,
   "metadata": {},
   "outputs": [
    {
     "data": {
      "image/png": "[encoded data removed]",
      "text/plain": [
       "<Figure size 1440x360 with 1 Axes>"
      ]
     },
     "metadata": {
      "needs_background": "light"
     },
     "output_type": "display_data"
    }
   ],
   "source": [
    "commonwords.most_common(SignificantWords)\n",
    "#Visualize classes\n",
    "fig = plt.figure(figsize=(20,5))\n",
    "ax = sns.barplot(x = [i[0] for i in comwordslist], y = [i[1] for i in comwordslist])\n",
    "ax.set(xlabel='Categories', ylabel = 'Frequency')\n",
    "plt.xticks(range(0,SignificantWords), [i[0] for i in comwordslist])\n",
    "plt.show()"
   ]
  },
  {
   "cell_type": "code",
   "execution_count": 54,
   "metadata": {},
   "outputs": [
    {
     "name": "stdout",
     "output_type": "stream",
     "text": [
      "[('AP', 193), ('39', 173), ('kill', 147), ('iraq', 130), ('afp', 125), ('lt', 90), ('b', 90), ('gt', 90), ('reuter', 88), ('U', 77), ('S', 76), ('US', 76), ('say', 74), ('bush', 66), ('new', 66), ('bomb', 62), ('talk', 59), ('UN', 52), ('israel', 50), ('attack', 50)]\n",
      "[('39', 239), ('AP', 196), ('win', 116), ('game', 77), ('lt', 72), ('b', 72), ('gt', 72), ('lead', 52), ('sox', 46), ('cup', 44), ('back', 41), ('red', 41), ('new', 41), ('No', 41), ('open', 40), ('take', 39), ('1', 38), ('first', 37), ('final', 37), ('gold', 36)]\n",
      "[('39', 157), ('US', 123), ('oil', 122), ('stock', 95), ('profit', 88), ('lt', 78), ('b', 78), ('gt', 78), ('price', 76), ('cut', 73), ('new', 66), ('updat', 65), ('share', 65), ('reuter', 64), ('rise', 62), ('buy', 57), ('sale', 57), ('Up', 53), ('say', 51), ('fall', 51)]\n",
      "[('39', 150), ('microsoft', 149), ('new', 132), ('AP', 92), ('reuter', 79), ('launch', 63), ('lt', 62), ('b', 62), ('gt', 62), ('ibm', 60), ('com', 58), ('googl', 45), ('secur', 45), ('linux', 45), ('phone', 45), ('appl', 44), ('space', 42), ('search', 42), ('intel', 40), ('servic', 39)]\n"
     ]
    },
    {
     "data": {
      "image/png": "[encoded data removed]",
      "text/plain": [
       "<Figure size 1080x720 with 4 Axes>"
      ]
     },
     "metadata": {},
     "output_type": "display_data"
    }
   ],
   "source": [
    "#still working on this to get parrallel histograms for each of the classes more used words\n",
    "\n",
    "\n",
    "fig, axs = plt.subplots(2,2, figsize=(15, 10), facecolor='w', edgecolor='k')\n",
    "fig.subplots_adjust(hspace = .5, wspace=.001)\n",
    "\n",
    "axs = axs.ravel()\n",
    "axs = axs.flatten()\n",
    "\n",
    "for k in range(4):\n",
    "    tempwords = np.asarray(S)[manipulated[manipulated[\"Class\"] == (k+1)].index.to_list()]\n",
    "    allwords = []\n",
    "    for i in tempwords:\n",
    "        for j in i:\n",
    "            allwords.append(j)\n",
    "    tempcomwords = FreqDist(allwords).most_common(SignificantWords)\n",
    "    print(tempcomwords)\n",
    "    axs[k] = sns.barplot(x = [i[0] for i in tempcomwords], y = [i[1] for i in tempcomwords])\n",
    "    axs[k].set_title(\"Hi\")\n"
   ]
  },
  {
   "cell_type": "markdown",
   "metadata": {},
   "source": [
    "# Binary Weighting"
   ]
  },
  {
   "cell_type": "code",
   "execution_count": null,
   "metadata": {},
   "outputs": [],
   "source": []
  },
  {
   "cell_type": "code",
   "execution_count": 61,
   "metadata": {},
   "outputs": [],
   "source": [
    "classnwords = df.Class.copy()\n",
    "manipulated = df.copy()"
   ]
  },
  {
   "cell_type": "code",
   "execution_count": 56,
   "metadata": {},
   "outputs": [],
   "source": [
    "for word in comwordslist: #Making columns for each significant word\n",
    "    manipulated[word[0]] = 0\n",
    "manipulated = manipulated.iloc[:,3:]\n",
    "\n",
    "lst2 = [i[0] for i in comwordslist] # Just the common words"
   ]
  },
  {
   "cell_type": "code",
   "execution_count": 57,
   "metadata": {
    "scrolled": false
   },
   "outputs": [
    {
     "name": "stderr",
     "output_type": "stream",
     "text": [
      "/Users/philiprundall/opt/anaconda3/lib/python3.7/site-packages/pandas/core/indexing.py:205: SettingWithCopyWarning: \n",
      "A value is trying to be set on a copy of a slice from a DataFrame\n",
      "\n",
      "See the caveats in the documentation: http://pandas.pydata.org/pandas-docs/stable/user_guide/indexing.html#returning-a-view-versus-a-copy\n",
      "  self._setitem_with_indexer(indexer, value)\n",
      "/Users/philiprundall/opt/anaconda3/lib/python3.7/site-packages/ipykernel_launcher.py:5: SettingWithCopyWarning: \n",
      "A value is trying to be set on a copy of a slice from a DataFrame\n",
      "\n",
      "See the caveats in the documentation: http://pandas.pydata.org/pandas-docs/stable/user_guide/indexing.html#returning-a-view-versus-a-copy\n",
      "  \"\"\"\n"
     ]
    }
   ],
   "source": [
    "for i in range(len(S)):\n",
    "    lst1 = S[i] # the parsed article\n",
    "    lst3 = [value for value in lst1 if value in lst2] # the union of these\n",
    "    \n",
    "    manipulated[lst3].iloc[i,:] = 1"
   ]
  },
  {
   "cell_type": "markdown",
   "metadata": {},
   "source": [
    "# ==============================Actual========================================="
   ]
  },
  {
   "cell_type": "code",
   "execution_count": 62,
   "metadata": {},
   "outputs": [],
   "source": [
    "Sum = [re.sub(r'[^\\w]', ' ', i) for i in Summary.to_numpy()] "
   ]
  },
  {
   "cell_type": "code",
   "execution_count": 63,
   "metadata": {},
   "outputs": [],
   "source": [
    "ReviewVzer = CountVectorizer(min_df=2, tokenizer=nltk.word_tokenize, max_features=2500)\n",
    "X = ReviewVzer.fit_transform(Sum)"
   ]
  },
  {
   "cell_type": "code",
   "execution_count": 64,
   "metadata": {},
   "outputs": [],
   "source": [
    "Y = manipulated[\"Class\"].to_numpy()"
   ]
  },
  {
   "cell_type": "markdown",
   "metadata": {},
   "source": [
    "# Logistic Regression Model\n"
   ]
  },
  {
   "cell_type": "code",
   "execution_count": null,
   "metadata": {},
   "outputs": [],
   "source": [
    "multinomial = LogisticRegression(penalty = 'l1', multi_class = 'multinomial', solver='saga')"
   ]
  },
  {
   "cell_type": "code",
   "execution_count": null,
   "metadata": {},
   "outputs": [],
   "source": [
    "multinomial.fit(X,Y)"
   ]
  },
  {
   "cell_type": "code",
   "execution_count": null,
   "metadata": {},
   "outputs": [],
   "source": []
  },
  {
   "cell_type": "markdown",
   "metadata": {},
   "source": [
    "# Evaluation Logistic"
   ]
  },
  {
   "cell_type": "code",
   "execution_count": null,
   "metadata": {},
   "outputs": [],
   "source": [
    "#Insample correvct values\n",
    "correct = 0 \n",
    "predictions = multinomial.predict(X)\n",
    "for i in range(len(Y)):\n",
    "    if predictions[i] == Y[i]:\n",
    "        correct += 1"
   ]
  },
  {
   "cell_type": "code",
   "execution_count": null,
   "metadata": {},
   "outputs": [],
   "source": [
    "print(\"Insample Accuracy = \", correct/len(Y))"
   ]
  },
  {
   "cell_type": "code",
   "execution_count": null,
   "metadata": {},
   "outputs": [],
   "source": [
    "cm = confusion_matrix(Y, predictions)\n",
    "pd.DataFrame(cm, index = classes, columns = classes)"
   ]
  },
  {
   "cell_type": "code",
   "execution_count": null,
   "metadata": {},
   "outputs": [],
   "source": []
  },
  {
   "cell_type": "code",
   "execution_count": null,
   "metadata": {},
   "outputs": [],
   "source": []
  },
  {
   "cell_type": "code",
   "execution_count": null,
   "metadata": {},
   "outputs": [],
   "source": []
  },
  {
   "cell_type": "code",
   "execution_count": null,
   "metadata": {},
   "outputs": [],
   "source": []
  },
  {
   "cell_type": "markdown",
   "metadata": {},
   "source": [
    "# KNN\n"
   ]
  },
  {
   "cell_type": "code",
   "execution_count": 18,
   "metadata": {},
   "outputs": [
    {
     "ename": "NameError",
     "evalue": "name 'Y' is not defined",
     "output_type": "error",
     "traceback": [
      "\u001b[0;31m---------------------------------------------------------------------------\u001b[0m",
      "\u001b[0;31mNameError\u001b[0m                                 Traceback (most recent call last)",
      "\u001b[0;32m<ipython-input-18-936157b6ff04>\u001b[0m in \u001b[0;36m<module>\u001b[0;34m\u001b[0m\n\u001b[0;32m----> 1\u001b[0;31m \u001b[0mKNN\u001b[0m \u001b[0;34m=\u001b[0m \u001b[0mKNeighborsClassifier\u001b[0m\u001b[0;34m(\u001b[0m\u001b[0mn_neighbors\u001b[0m\u001b[0;34m=\u001b[0m\u001b[0;36m2\u001b[0m\u001b[0;34m)\u001b[0m\u001b[0;34m.\u001b[0m\u001b[0mfit\u001b[0m\u001b[0;34m(\u001b[0m\u001b[0mX\u001b[0m\u001b[0;34m,\u001b[0m\u001b[0mY\u001b[0m\u001b[0;34m)\u001b[0m\u001b[0;34m\u001b[0m\u001b[0;34m\u001b[0m\u001b[0m\n\u001b[0m",
      "\u001b[0;31mNameError\u001b[0m: name 'Y' is not defined"
     ]
    }
   ],
   "source": [
    "KNN = KNeighborsClassifier(n_neighbors=2).fit(X,Y)"
   ]
  },
  {
   "cell_type": "code",
   "execution_count": 19,
   "metadata": {},
   "outputs": [
    {
     "ename": "NameError",
     "evalue": "name 'KNN' is not defined",
     "output_type": "error",
     "traceback": [
      "\u001b[0;31m---------------------------------------------------------------------------\u001b[0m",
      "\u001b[0;31mNameError\u001b[0m                                 Traceback (most recent call last)",
      "\u001b[0;32m<ipython-input-19-64ec33cc884a>\u001b[0m in \u001b[0;36m<module>\u001b[0;34m\u001b[0m\n\u001b[1;32m      1\u001b[0m \u001b[0mcorrect\u001b[0m \u001b[0;34m=\u001b[0m \u001b[0;36m0\u001b[0m\u001b[0;34m\u001b[0m\u001b[0;34m\u001b[0m\u001b[0m\n\u001b[0;32m----> 2\u001b[0;31m \u001b[0mpredictions\u001b[0m \u001b[0;34m=\u001b[0m \u001b[0mKNN\u001b[0m\u001b[0;34m.\u001b[0m\u001b[0mpredict\u001b[0m\u001b[0;34m(\u001b[0m\u001b[0mX\u001b[0m\u001b[0;34m)\u001b[0m\u001b[0;34m\u001b[0m\u001b[0;34m\u001b[0m\u001b[0m\n\u001b[0m\u001b[1;32m      3\u001b[0m \u001b[0;32mfor\u001b[0m \u001b[0mi\u001b[0m \u001b[0;32min\u001b[0m \u001b[0mrange\u001b[0m\u001b[0;34m(\u001b[0m\u001b[0mlen\u001b[0m\u001b[0;34m(\u001b[0m\u001b[0mY\u001b[0m\u001b[0;34m)\u001b[0m\u001b[0;34m)\u001b[0m\u001b[0;34m:\u001b[0m\u001b[0;34m\u001b[0m\u001b[0;34m\u001b[0m\u001b[0m\n\u001b[1;32m      4\u001b[0m     \u001b[0;32mif\u001b[0m \u001b[0mpredictions\u001b[0m\u001b[0;34m[\u001b[0m\u001b[0mi\u001b[0m\u001b[0;34m]\u001b[0m \u001b[0;34m==\u001b[0m \u001b[0mY\u001b[0m\u001b[0;34m[\u001b[0m\u001b[0mi\u001b[0m\u001b[0;34m]\u001b[0m\u001b[0;34m:\u001b[0m\u001b[0;34m\u001b[0m\u001b[0;34m\u001b[0m\u001b[0m\n\u001b[1;32m      5\u001b[0m         \u001b[0mcorrect\u001b[0m \u001b[0;34m+=\u001b[0m \u001b[0;36m1\u001b[0m\u001b[0;34m\u001b[0m\u001b[0;34m\u001b[0m\u001b[0m\n",
      "\u001b[0;31mNameError\u001b[0m: name 'KNN' is not defined"
     ]
    }
   ],
   "source": [
    "correct = 0 \n",
    "predictions = KNN.predict(X)\n",
    "for i in range(len(Y)):\n",
    "    if predictions[i] == Y[i]:\n",
    "        correct += 1\n",
    "print(\"Insample Accuracy = \", correct/len(Y))"
   ]
  },
  {
   "cell_type": "code",
   "execution_count": null,
   "metadata": {},
   "outputs": [],
   "source": []
  },
  {
   "cell_type": "markdown",
   "metadata": {},
   "source": [
    "# LDA\n"
   ]
  },
  {
   "cell_type": "code",
   "execution_count": 126,
   "metadata": {},
   "outputs": [],
   "source": [
    "LDA = LinearDiscriminantAnalysis()"
   ]
  },
  {
   "cell_type": "code",
   "execution_count": 127,
   "metadata": {},
   "outputs": [
    {
     "data": {
      "text/plain": [
       "LinearDiscriminantAnalysis(n_components=None, priors=None, shrinkage=None,\n",
       "                           solver='svd', store_covariance=False, tol=0.0001)"
      ]
     },
     "execution_count": 127,
     "metadata": {},
     "output_type": "execute_result"
    }
   ],
   "source": [
    "LDA.fit(X.toarray(),Y)"
   ]
  },
  {
   "cell_type": "code",
   "execution_count": 128,
   "metadata": {},
   "outputs": [
    {
     "name": "stdout",
     "output_type": "stream",
     "text": [
      "Insample Accuracy =  0.8264916666666666\n"
     ]
    }
   ],
   "source": [
    "correct = 0 \n",
    "predictions = LDA.predict(X)\n",
    "for i in range(len(Y)):\n",
    "    if predictions[i] == Y[i]:\n",
    "        correct += 1\n",
    "print(\"Insample Accuracy = \", correct/len(Y))"
   ]
  },
  {
   "cell_type": "code",
   "execution_count": null,
   "metadata": {},
   "outputs": [],
   "source": []
  },
  {
   "cell_type": "markdown",
   "metadata": {},
   "source": [
    "# QDA"
   ]
  },
  {
   "cell_type": "code",
   "execution_count": 131,
   "metadata": {},
   "outputs": [],
   "source": [
    "QDA = QuadraticDiscriminantAnalysis()"
   ]
  },
  {
   "cell_type": "code",
   "execution_count": null,
   "metadata": {},
   "outputs": [],
   "source": []
  },
  {
   "cell_type": "markdown",
   "metadata": {},
   "source": [
    "# K-Means"
   ]
  },
  {
   "cell_type": "code",
   "execution_count": 3,
   "metadata": {},
   "outputs": [],
   "source": [
    "df = pd.read_csv(\"/Users/philiprundall/Python/Econ_412 /Project_2/Part1_test.csv\", names=[\"Class\",\"Title\",\"Summary\"], header=None) # Read table\n",
    "manipulated = df.copy() # make a copy\n",
    "classnwords = df.Class.copy()\n",
    "manipulated = df.copy()\n",
    "Summary = manipulated.iloc[:,1] # Just using the summary for now use 2 or title use 1\n",
    "Sum = [re.sub(r'[^\\w]', ' ', i) for i in Summary.to_numpy()] \n",
    "ReviewVzer = CountVectorizer(min_df=2, tokenizer=nltk.word_tokenize, max_features=2500)\n",
    "X = ReviewVzer.fit_transform(Sum)\n",
    "Y = manipulated[\"Class\"].to_numpy()\n"
   ]
  },
  {
   "cell_type": "code",
   "execution_count": 4,
   "metadata": {
    "scrolled": true
   },
   "outputs": [
    {
     "data": {
      "text/html": [
       "<div>\n",
       "<style scoped>\n",
       "    .dataframe tbody tr th:only-of-type {\n",
       "        vertical-align: middle;\n",
       "    }\n",
       "\n",
       "    .dataframe tbody tr th {\n",
       "        vertical-align: top;\n",
       "    }\n",
       "\n",
       "    .dataframe thead th {\n",
       "        text-align: right;\n",
       "    }\n",
       "</style>\n",
       "<table border=\"1\" class=\"dataframe\">\n",
       "  <thead>\n",
       "    <tr style=\"text-align: right;\">\n",
       "      <th>Classification</th>\n",
       "      <th>1</th>\n",
       "      <th>2</th>\n",
       "      <th>3</th>\n",
       "      <th>4</th>\n",
       "    </tr>\n",
       "    <tr>\n",
       "      <th>Cluster</th>\n",
       "      <th></th>\n",
       "      <th></th>\n",
       "      <th></th>\n",
       "      <th></th>\n",
       "    </tr>\n",
       "  </thead>\n",
       "  <tbody>\n",
       "    <tr>\n",
       "      <td>0</td>\n",
       "      <td>45</td>\n",
       "      <td>36</td>\n",
       "      <td>39</td>\n",
       "      <td>31</td>\n",
       "    </tr>\n",
       "    <tr>\n",
       "      <td>1</td>\n",
       "      <td>359</td>\n",
       "      <td>294</td>\n",
       "      <td>373</td>\n",
       "      <td>350</td>\n",
       "    </tr>\n",
       "    <tr>\n",
       "      <td>2</td>\n",
       "      <td>553</td>\n",
       "      <td>371</td>\n",
       "      <td>316</td>\n",
       "      <td>282</td>\n",
       "    </tr>\n",
       "    <tr>\n",
       "      <td>3</td>\n",
       "      <td>943</td>\n",
       "      <td>1199</td>\n",
       "      <td>1172</td>\n",
       "      <td>1237</td>\n",
       "    </tr>\n",
       "  </tbody>\n",
       "</table>\n",
       "</div>"
      ],
      "text/plain": [
       "Classification    1     2     3     4\n",
       "Cluster                              \n",
       "0                45    36    39    31\n",
       "1               359   294   373   350\n",
       "2               553   371   316   282\n",
       "3               943  1199  1172  1237"
      ]
     },
     "execution_count": 4,
     "metadata": {},
     "output_type": "execute_result"
    }
   ],
   "source": [
    "#Fitting with 4 clusters\n",
    "kmeans = KMeans(n_clusters=4, init='k-means++', max_iter=300, n_init=10, random_state=0)\n",
    "pred_y = kmeans.fit_predict(X)\n",
    "#Checking how many from each classification are in each cluster\n",
    "df = pd.DataFrame({'Classification': Y,\n",
    "                      'Cluster': pred_y})\n",
    "df1 = pd.crosstab(df['Cluster'], df['Classification'])\n",
    "df1"
   ]
  },
  {
   "cell_type": "code",
   "execution_count": null,
   "metadata": {},
   "outputs": [],
   "source": []
  },
  {
   "cell_type": "code",
   "execution_count": 71,
   "metadata": {},
   "outputs": [
    {
     "data": {
      "image/png": "[encoded data removed]",
      "text/plain": [
       "<Figure size 432x288 with 1 Axes>"
      ]
     },
     "metadata": {
      "needs_background": "light"
     },
     "output_type": "display_data"
    }
   ],
   "source": [
    "#Elbow Method, up to 15 clusters\n",
    "wcss = []\n",
    "for i in range(1, 15):\n",
    "    kmeans = KMeans(n_clusters=i, init='k-means++', max_iter=300, n_init=10, random_state=0)\n",
    "    kmeans.fit(X)\n",
    "    wcss.append(kmeans.inertia_)\n",
    "plt.plot(range(1, 15), wcss)\n",
    "plt.title('Elbow Method')\n",
    "plt.xlabel('Number of clusters')\n",
    "plt.ylabel('WCSS')\n",
    "plt.show()"
   ]
  },
  {
   "cell_type": "code",
   "execution_count": 19,
   "metadata": {},
   "outputs": [
    {
     "data": {
      "text/html": [
       "<div>\n",
       "<style scoped>\n",
       "    .dataframe tbody tr th:only-of-type {\n",
       "        vertical-align: middle;\n",
       "    }\n",
       "\n",
       "    .dataframe tbody tr th {\n",
       "        vertical-align: top;\n",
       "    }\n",
       "\n",
       "    .dataframe thead th {\n",
       "        text-align: right;\n",
       "    }\n",
       "</style>\n",
       "<table border=\"1\" class=\"dataframe\">\n",
       "  <thead>\n",
       "    <tr style=\"text-align: right;\">\n",
       "      <th>Classification</th>\n",
       "      <th>1</th>\n",
       "      <th>2</th>\n",
       "      <th>3</th>\n",
       "      <th>4</th>\n",
       "    </tr>\n",
       "    <tr>\n",
       "      <th>Cluster</th>\n",
       "      <th></th>\n",
       "      <th></th>\n",
       "      <th></th>\n",
       "      <th></th>\n",
       "    </tr>\n",
       "  </thead>\n",
       "  <tbody>\n",
       "    <tr>\n",
       "      <td>0</td>\n",
       "      <td>45</td>\n",
       "      <td>36</td>\n",
       "      <td>39</td>\n",
       "      <td>31</td>\n",
       "    </tr>\n",
       "    <tr>\n",
       "      <td>1</td>\n",
       "      <td>122</td>\n",
       "      <td>82</td>\n",
       "      <td>182</td>\n",
       "      <td>130</td>\n",
       "    </tr>\n",
       "    <tr>\n",
       "      <td>2</td>\n",
       "      <td>175</td>\n",
       "      <td>186</td>\n",
       "      <td>165</td>\n",
       "      <td>186</td>\n",
       "    </tr>\n",
       "    <tr>\n",
       "      <td>3</td>\n",
       "      <td>807</td>\n",
       "      <td>1010</td>\n",
       "      <td>922</td>\n",
       "      <td>1017</td>\n",
       "    </tr>\n",
       "    <tr>\n",
       "      <td>4</td>\n",
       "      <td>13</td>\n",
       "      <td>25</td>\n",
       "      <td>33</td>\n",
       "      <td>23</td>\n",
       "    </tr>\n",
       "    <tr>\n",
       "      <td>5</td>\n",
       "      <td>122</td>\n",
       "      <td>159</td>\n",
       "      <td>120</td>\n",
       "      <td>96</td>\n",
       "    </tr>\n",
       "    <tr>\n",
       "      <td>6</td>\n",
       "      <td>354</td>\n",
       "      <td>168</td>\n",
       "      <td>173</td>\n",
       "      <td>141</td>\n",
       "    </tr>\n",
       "    <tr>\n",
       "      <td>7</td>\n",
       "      <td>262</td>\n",
       "      <td>234</td>\n",
       "      <td>266</td>\n",
       "      <td>276</td>\n",
       "    </tr>\n",
       "  </tbody>\n",
       "</table>\n",
       "</div>"
      ],
      "text/plain": [
       "Classification    1     2    3     4\n",
       "Cluster                             \n",
       "0                45    36   39    31\n",
       "1               122    82  182   130\n",
       "2               175   186  165   186\n",
       "3               807  1010  922  1017\n",
       "4                13    25   33    23\n",
       "5               122   159  120    96\n",
       "6               354   168  173   141\n",
       "7               262   234  266   276"
      ]
     },
     "execution_count": 19,
     "metadata": {},
     "output_type": "execute_result"
    }
   ],
   "source": [
    "#Fitting with 8 clusters\n",
    "kmeans = KMeans(n_clusters=8, init='k-means++', max_iter=300, n_init=10, random_state=0)\n",
    "pred_y2 = kmeans.fit_predict(X)\n",
    "#Checking how many from each classification are in each cluster\n",
    "df2 = pd.DataFrame({'Classification': Y,\n",
    "                      'Cluster': pred_y2})\n",
    "df3 = pd.crosstab(df2['Cluster'], df2['Classification'])\n",
    "df3\n",
    "\n"
   ]
  },
  {
   "cell_type": "code",
   "execution_count": 20,
   "metadata": {},
   "outputs": [],
   "source": [
    "df3.to_csv(\"8_clusters.csv\")\n"
   ]
  },
  {
   "cell_type": "code",
   "execution_count": 7,
   "metadata": {},
   "outputs": [],
   "source": [
    "#resampling\n",
    "X1 = manipulated.sample(frac=1, replace=True)\n",
    "X2 = manipulated.sample(frac=1, replace=True)\n",
    "X3 = manipulated.sample(frac=1, replace=True)\n",
    "X4 = manipulated.sample(frac=1, replace=True)\n",
    "X5 = manipulated.sample(frac=1, replace=True)\n",
    "\n",
    "#Sample 1\n",
    "Summary1 = X1.iloc[:,1] # Just using the summary for now use 2 or title use 1\n",
    "Sum = [re.sub(r'[^\\w]', ' ', i) for i in Summary1.to_numpy()] \n",
    "ReviewVzer = CountVectorizer(min_df=2, tokenizer=nltk.word_tokenize, max_features=2500)\n",
    "X1 = ReviewVzer.fit_transform(Sum)\n",
    "\n",
    "#Sample 2\n",
    "Summary2 = X2.iloc[:,1] # Just using the summary for now use 2 or title use 1\n",
    "Sum = [re.sub(r'[^\\w]', ' ', i) for i in Summary2.to_numpy()] \n",
    "ReviewVzer = CountVectorizer(min_df=2, tokenizer=nltk.word_tokenize, max_features=2500)\n",
    "X2 = ReviewVzer.fit_transform(Sum)\n",
    "\n",
    "#Sample 3\n",
    "Summary3 = X3.iloc[:,1] # Just using the summary for now use 2 or title use 1\n",
    "Sum = [re.sub(r'[^\\w]', ' ', i) for i in Summary3.to_numpy()] \n",
    "ReviewVzer = CountVectorizer(min_df=2, tokenizer=nltk.word_tokenize, max_features=2500)\n",
    "X3 = ReviewVzer.fit_transform(Sum)\n",
    "\n",
    "#Sample 4\n",
    "Summary4 = X4.iloc[:,1] # Just using the summary for now use 2 or title use 1\n",
    "Sum = [re.sub(r'[^\\w]', ' ', i) for i in Summary4.to_numpy()] \n",
    "ReviewVzer = CountVectorizer(min_df=2, tokenizer=nltk.word_tokenize, max_features=2500)\n",
    "X4 = ReviewVzer.fit_transform(Sum)\n",
    "\n",
    "#Sample 5\n",
    "Summary5 = X5.iloc[:,1] # Just using the summary for now use 2 or title use 1\n",
    "Sum = [re.sub(r'[^\\w]', ' ', i) for i in Summary5.to_numpy()] \n",
    "ReviewVzer = CountVectorizer(min_df=2, tokenizer=nltk.word_tokenize, max_features=2500)\n",
    "X5 = ReviewVzer.fit_transform(Sum)\n",
    "\n"
   ]
  },
  {
   "cell_type": "code",
   "execution_count": 8,
   "metadata": {},
   "outputs": [
    {
     "data": {
      "image/png": "[encoded data removed]",
      "text/plain": [
       "<Figure size 432x288 with 1 Axes>"
      ]
     },
     "metadata": {
      "needs_background": "light"
     },
     "output_type": "display_data"
    }
   ],
   "source": [
    "#Elbow Method, up to 15 clusters, bootstrap 1\n",
    "wcss1 = []\n",
    "for i in range(1, 15):\n",
    "    kmeans = KMeans(n_clusters=i, init='k-means++', max_iter=300, n_init=10, random_state=0)\n",
    "    kmeans.fit(X1)\n",
    "    wcss1.append(kmeans.inertia_)\n",
    "plt.plot(range(1, 15), wcss1)\n",
    "plt.title('Elbow Method')\n",
    "plt.xlabel('Number of clusters')\n",
    "plt.ylabel('WCSS')\n",
    "plt.show()"
   ]
  },
  {
   "cell_type": "code",
   "execution_count": 9,
   "metadata": {},
   "outputs": [
    {
     "data": {
      "image/png": "[encoded data removed]",
      "text/plain": [
       "<Figure size 432x288 with 1 Axes>"
      ]
     },
     "metadata": {
      "needs_background": "light"
     },
     "output_type": "display_data"
    }
   ],
   "source": [
    "#Elbow Method, up to 15 clusters, bootstrap 2\n",
    "wcss2 = []\n",
    "for i in range(1, 15):\n",
    "    kmeans = KMeans(n_clusters=i, init='k-means++', max_iter=300, n_init=10, random_state=0)\n",
    "    kmeans.fit(X2)\n",
    "    wcss2.append(kmeans.inertia_)\n",
    "plt.plot(range(1, 15), wcss2)\n",
    "plt.title('Elbow Method')\n",
    "plt.xlabel('Number of clusters')\n",
    "plt.ylabel('WCSS')\n",
    "plt.show()"
   ]
  },
  {
   "cell_type": "code",
   "execution_count": 10,
   "metadata": {},
   "outputs": [
    {
     "data": {
      "image/png": "[encoded data removed]",
      "text/plain": [
       "<Figure size 432x288 with 1 Axes>"
      ]
     },
     "metadata": {
      "needs_background": "light"
     },
     "output_type": "display_data"
    }
   ],
   "source": [
    "#Elbow Method, up to 15 clusters, bootstrap 3\n",
    "wcss3 = []\n",
    "for i in range(1, 15):\n",
    "    kmeans = KMeans(n_clusters=i, init='k-means++', max_iter=300, n_init=10, random_state=0)\n",
    "    kmeans.fit(X3)\n",
    "    wcss3.append(kmeans.inertia_)\n",
    "plt.plot(range(1, 15), wcss3)\n",
    "plt.title('Elbow Method')\n",
    "plt.xlabel('Number of clusters')\n",
    "plt.ylabel('WCSS')\n",
    "plt.show()"
   ]
  },
  {
   "cell_type": "code",
   "execution_count": 11,
   "metadata": {},
   "outputs": [
    {
     "data": {
      "image/png": "[encoded data removed]",
      "text/plain": [
       "<Figure size 432x288 with 1 Axes>"
      ]
     },
     "metadata": {
      "needs_background": "light"
     },
     "output_type": "display_data"
    }
   ],
   "source": [
    "#Elbow Method, up to 15 clusters, bootstrap 4\n",
    "wcss4 = []\n",
    "for i in range(1, 15):\n",
    "    kmeans = KMeans(n_clusters=i, init='k-means++', max_iter=300, n_init=10, random_state=0)\n",
    "    kmeans.fit(X4)\n",
    "    wcss4.append(kmeans.inertia_)\n",
    "plt.plot(range(1, 15), wcss4)\n",
    "plt.title('Elbow Method')\n",
    "plt.xlabel('Number of clusters')\n",
    "plt.ylabel('WCSS')\n",
    "plt.show()"
   ]
  },
  {
   "cell_type": "code",
   "execution_count": 12,
   "metadata": {},
   "outputs": [
    {
     "data": {
      "image/png": "[encoded data removed]",
      "text/plain": [
       "<Figure size 432x288 with 1 Axes>"
      ]
     },
     "metadata": {
      "needs_background": "light"
     },
     "output_type": "display_data"
    }
   ],
   "source": [
    "#Elbow Method, up to 15 clusters, bootstrap 5\n",
    "wcss5 = []\n",
    "for i in range(1, 15):\n",
    "    kmeans = KMeans(n_clusters=i, init='k-means++', max_iter=300, n_init=10, random_state=0)\n",
    "    kmeans.fit(X5)\n",
    "    wcss5.append(kmeans.inertia_)\n",
    "plt.plot(range(1, 15), wcss5)\n",
    "plt.title('Elbow Method')\n",
    "plt.xlabel('Number of clusters')\n",
    "plt.ylabel('WCSS')\n",
    "plt.show()"
   ]
  },
  {
   "cell_type": "code",
   "execution_count": 13,
   "metadata": {},
   "outputs": [
    {
     "data": {
      "text/plain": [
       "array([44544.943     , 42675.75112777, 41655.57608801, 40704.80169726,\n",
       "       40327.09797105, 39773.16990281, 39359.04741466, 39043.16754667,\n",
       "       38824.00265509, 38583.97233489, 38468.6063451 , 38310.65641898,\n",
       "       38183.00730628, 38095.92259026])"
      ]
     },
     "execution_count": 13,
     "metadata": {},
     "output_type": "execute_result"
    }
   ],
   "source": [
    "#Taking mean of variances across bootstraps\n",
    "wccsb = list(zip(wcss1, wcss2, wcss3, wcss4, wcss5))\n",
    "wccsb = np.asarray(wccsb)\n",
    "wccsb = wccsb.T\n",
    "wccs_boot_mean = wccsb.mean(axis=0)\n",
    "wccs_boot_mean"
   ]
  },
  {
   "cell_type": "code",
   "execution_count": 14,
   "metadata": {},
   "outputs": [
    {
     "data": {
      "image/png": "[encoded data removed]",
      "text/plain": [
       "<Figure size 432x288 with 1 Axes>"
      ]
     },
     "metadata": {
      "needs_background": "light"
     },
     "output_type": "display_data"
    }
   ],
   "source": [
    "#Plotting mean of bootstraps\n",
    "plt.plot(range(1, 15), wccs_boot_mean)\n",
    "plt.title('Elbow Method, Bootstrapped')\n",
    "plt.xlabel('Number of clusters')\n",
    "plt.ylabel('WCSS, bootstrapped mean')\n",
    "plt.show()"
   ]
  },
  {
   "cell_type": "code",
   "execution_count": 17,
   "metadata": {},
   "outputs": [
    {
     "data": {
      "text/html": [
       "<div>\n",
       "<style scoped>\n",
       "    .dataframe tbody tr th:only-of-type {\n",
       "        vertical-align: middle;\n",
       "    }\n",
       "\n",
       "    .dataframe tbody tr th {\n",
       "        vertical-align: top;\n",
       "    }\n",
       "\n",
       "    .dataframe thead th {\n",
       "        text-align: right;\n",
       "    }\n",
       "</style>\n",
       "<table border=\"1\" class=\"dataframe\">\n",
       "  <thead>\n",
       "    <tr style=\"text-align: right;\">\n",
       "      <th>Classification</th>\n",
       "      <th>1</th>\n",
       "      <th>2</th>\n",
       "      <th>3</th>\n",
       "      <th>4</th>\n",
       "    </tr>\n",
       "    <tr>\n",
       "      <th>Cluster</th>\n",
       "      <th></th>\n",
       "      <th></th>\n",
       "      <th></th>\n",
       "      <th></th>\n",
       "    </tr>\n",
       "  </thead>\n",
       "  <tbody>\n",
       "    <tr>\n",
       "      <td>0</td>\n",
       "      <td>774</td>\n",
       "      <td>923</td>\n",
       "      <td>870</td>\n",
       "      <td>918</td>\n",
       "    </tr>\n",
       "    <tr>\n",
       "      <td>1</td>\n",
       "      <td>324</td>\n",
       "      <td>246</td>\n",
       "      <td>324</td>\n",
       "      <td>296</td>\n",
       "    </tr>\n",
       "    <tr>\n",
       "      <td>2</td>\n",
       "      <td>27</td>\n",
       "      <td>60</td>\n",
       "      <td>51</td>\n",
       "      <td>62</td>\n",
       "    </tr>\n",
       "    <tr>\n",
       "      <td>3</td>\n",
       "      <td>35</td>\n",
       "      <td>92</td>\n",
       "      <td>69</td>\n",
       "      <td>128</td>\n",
       "    </tr>\n",
       "    <tr>\n",
       "      <td>4</td>\n",
       "      <td>118</td>\n",
       "      <td>142</td>\n",
       "      <td>116</td>\n",
       "      <td>136</td>\n",
       "    </tr>\n",
       "    <tr>\n",
       "      <td>5</td>\n",
       "      <td>9</td>\n",
       "      <td>12</td>\n",
       "      <td>0</td>\n",
       "      <td>10</td>\n",
       "    </tr>\n",
       "    <tr>\n",
       "      <td>6</td>\n",
       "      <td>45</td>\n",
       "      <td>36</td>\n",
       "      <td>39</td>\n",
       "      <td>31</td>\n",
       "    </tr>\n",
       "    <tr>\n",
       "      <td>7</td>\n",
       "      <td>316</td>\n",
       "      <td>148</td>\n",
       "      <td>134</td>\n",
       "      <td>114</td>\n",
       "    </tr>\n",
       "    <tr>\n",
       "      <td>8</td>\n",
       "      <td>120</td>\n",
       "      <td>159</td>\n",
       "      <td>117</td>\n",
       "      <td>94</td>\n",
       "    </tr>\n",
       "    <tr>\n",
       "      <td>9</td>\n",
       "      <td>4</td>\n",
       "      <td>0</td>\n",
       "      <td>0</td>\n",
       "      <td>0</td>\n",
       "    </tr>\n",
       "    <tr>\n",
       "      <td>10</td>\n",
       "      <td>3</td>\n",
       "      <td>8</td>\n",
       "      <td>11</td>\n",
       "      <td>6</td>\n",
       "    </tr>\n",
       "    <tr>\n",
       "      <td>11</td>\n",
       "      <td>125</td>\n",
       "      <td>74</td>\n",
       "      <td>169</td>\n",
       "      <td>105</td>\n",
       "    </tr>\n",
       "  </tbody>\n",
       "</table>\n",
       "</div>"
      ],
      "text/plain": [
       "Classification    1    2    3    4\n",
       "Cluster                           \n",
       "0               774  923  870  918\n",
       "1               324  246  324  296\n",
       "2                27   60   51   62\n",
       "3                35   92   69  128\n",
       "4               118  142  116  136\n",
       "5                 9   12    0   10\n",
       "6                45   36   39   31\n",
       "7               316  148  134  114\n",
       "8               120  159  117   94\n",
       "9                 4    0    0    0\n",
       "10                3    8   11    6\n",
       "11              125   74  169  105"
      ]
     },
     "execution_count": 17,
     "metadata": {},
     "output_type": "execute_result"
    }
   ],
   "source": [
    "#Fitting with 12 clusters\n",
    "kmeans = KMeans(n_clusters=12, init='k-means++', max_iter=300, n_init=10, random_state=0)\n",
    "pred_y3 = kmeans.fit_predict(X)\n",
    "#Checking how many from each classification are in each cluster\n",
    "df4 = pd.DataFrame({'Classification': Y,\n",
    "                      'Cluster': pred_y3})\n",
    "df5 = pd.crosstab(df4['Cluster'], df4['Classification'])\n",
    "df5"
   ]
  },
  {
   "cell_type": "code",
   "execution_count": 21,
   "metadata": {},
   "outputs": [],
   "source": [
    "df5.to_csv(\"12_clusters.csv\")"
   ]
  },
  {
   "cell_type": "code",
   "execution_count": null,
   "metadata": {},
   "outputs": [],
   "source": []
  }
 ],
 "metadata": {
  "kernelspec": {
   "display_name": "Python 3",
   "language": "python",
   "name": "python3"
  },
  "language_info": {
   "codemirror_mode": {
    "name": "ipython",
    "version": 3
   },
   "file_extension": ".py",
   "mimetype": "text/x-python",
   "name": "python",
   "nbconvert_exporter": "python",
   "pygments_lexer": "ipython3",
   "version": "3.7.4"
  }
 },
 "nbformat": 4,
 "nbformat_minor": 2
}
